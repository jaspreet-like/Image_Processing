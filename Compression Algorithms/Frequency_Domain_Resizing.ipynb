{
  "nbformat": 4,
  "nbformat_minor": 0,
  "metadata": {
    "kernelspec": {
      "display_name": "Python 3",
      "language": "python",
      "name": "python3"
    },
    "language_info": {
      "codemirror_mode": {
        "name": "ipython",
        "version": 3
      },
      "file_extension": ".py",
      "mimetype": "text/x-python",
      "name": "python",
      "nbconvert_exporter": "python",
      "pygments_lexer": "ipython3",
      "version": "3.7.6"
    },
    "colab": {
      "name": "Jaspreet Task_1.ipynb",
      "provenance": []
    }
  },
  "cells": [
    {
      "cell_type": "code",
      "metadata": {
        "id": "mkvRvQBPJYqz"
      },
      "source": [
        "# Copyright 2020 IITK EE604A Image Processing. All Rights Reserved.\n",
        "# \n",
        "# Licensed under the MIT License. Use and/or modification of this code outside of EE604 must reference:\n",
        "#\n",
        "# © IITK EE604A Image Processing \n",
        "# https://github.com/ee604/ee604_assignments\n",
        "#\n",
        "# Author: Shashi Kant Gupta, Chiranjeev Prachand and Prof K. S. Venkatesh, Department of Electrical Engineering, IIT Kanpur"
      ],
      "execution_count": null,
      "outputs": []
    },
    {
      "cell_type": "markdown",
      "metadata": {
        "id": "pn3MRsZZJYrI"
      },
      "source": [
        "# Task 1: Frequency Domain Analysis - Resizing\n",
        "\n",
        "Remember, we already did this using operation in the spatial domain (interpolation methods)? Now let's do the same thing using frequency domain analysis."
      ]
    },
    {
      "cell_type": "code",
      "metadata": {
        "id": "US0ZMBTOJYrJ",
        "colab": {
          "base_uri": "https://localhost:8080/"
        },
        "outputId": "05483fcd-b704-47f4-f96f-4430ebed0809"
      },
      "source": [
        "%%bash\n",
        "pip install git+https://github.com/ee604/ee604_plugins"
      ],
      "execution_count": 4,
      "outputs": [
        {
          "output_type": "stream",
          "text": [
            "Collecting git+https://github.com/ee604/ee604_plugins\n",
            "  Cloning https://github.com/ee604/ee604_plugins to /tmp/pip-req-build-69a8vp0c\n",
            "Building wheels for collected packages: ee604-plugins\n",
            "  Building wheel for ee604-plugins (setup.py): started\n",
            "  Building wheel for ee604-plugins (setup.py): finished with status 'done'\n",
            "  Created wheel for ee604-plugins: filename=ee604_plugins-0.3.2-cp36-none-any.whl size=2311 sha256=7c3f1e698e58e7e53cd9e5e8b83439e545f84e09402707ee9c57c23ab8013485\n",
            "  Stored in directory: /tmp/pip-ephem-wheel-cache-jjs5o_l5/wheels/34/a8/1d/ae3b7d209ecde89b4800a47ec55a61e7503bb9548bbb975806\n",
            "Successfully built ee604-plugins\n",
            "Installing collected packages: ee604-plugins\n",
            "Successfully installed ee604-plugins-0.3.2\n"
          ],
          "name": "stdout"
        },
        {
          "output_type": "stream",
          "text": [
            "  Running command git clone -q https://github.com/ee604/ee604_plugins /tmp/pip-req-build-69a8vp0c\n"
          ],
          "name": "stderr"
        }
      ]
    },
    {
      "cell_type": "code",
      "metadata": {
        "id": "Ntq3BmsGJYrP",
        "colab": {
          "base_uri": "https://localhost:8080/"
        },
        "outputId": "1ae7f6e4-9d8e-47ad-de5e-6ee326d17339"
      },
      "source": [
        "# Importing required libraries\n",
        "\n",
        "import cv2\n",
        "import numpy as np\n",
        "import matplotlib.pyplot as plt\n",
        "\n",
        "from ee604_plugins import download_dataset, cv2_imshow\n",
        "\n",
        "download_dataset(assignment_no=3, task_no=1) # download data for this assignment"
      ],
      "execution_count": 5,
      "outputs": [
        {
          "output_type": "stream",
          "text": [
            "Download Complete!\n"
          ],
          "name": "stdout"
        }
      ]
    },
    {
      "cell_type": "code",
      "metadata": {
        "id": "9WN-3yjlJYrb"
      },
      "source": [
        "def resize_ft(img, k=1):\n",
        "    '''\n",
        "    Write a program to resize the given image by a factor 'k90' using frequency domain analysis.\n",
        "    \n",
        "    Inputs:\n",
        "    + img - Original image\n",
        "    + k - resampling factor, therefore if input image size is 300x300 \n",
        "        - and k=0.5 ==> output image size = 150x150\n",
        "        - use int(k*input_image_size) to find the nearest integer\n",
        "    \n",
        "    Ouputs:\n",
        "    + out_img - numpy array (of dtype np.uint8) containing the output image.\n",
        "              - range should be between (0, 255) which may not be the case when u run the inverse DFT. \n",
        "              - Therefore, normalise the image by img = (img - min(img))/max(img) to rescale the values to (0, 255)\n",
        "    \n",
        "    Allowed external package:\n",
        "    + You are allowed to use any cv2.dft or cv2.idft module or any other suitable module in numpy and cv2 \n",
        "    + Just make sure you do not use any direct implementation.\n",
        "    \n",
        "    Hints:\n",
        "    + For upscaling - pad the frquency domain signal with zeros around the center of the image. \n",
        "    + For downscaling - crop the frequency domain signal at the centre of required size.\n",
        "    + PS - Make sure to use proper shift operation on output of cv2.dft so that your frequency domain signal \n",
        "         - assumes the centre of the image to be origin\n",
        "    \n",
        "    '''\n",
        "    \n",
        "    #############################\n",
        "    # Start your code from here #\n",
        "    #############################\n",
        "\n",
        "    dft = np.fft.fft2(img)\n",
        "    #print(\"dft\",dft)\n",
        "\n",
        "    dft_shift = np.fft.fftshift(dft)\n",
        "    #print(\"dft_shift size:\",dft_shift.shape)\n",
        "    \n",
        "    m,n = dft_shift.shape\n",
        "\n",
        "    new_m, new_n = int(k*m), int(k*n)\n",
        "    #print(dft_shift.dtype)\n",
        "\n",
        "    first_m = abs(int(((k*m) - m)/2))\n",
        "    first_n = abs(int(((k*n) - n)/2))\n",
        "    back = np.zeros((new_m, new_n), dtype=complex)\n",
        "    #print(first_m,first_n)\n",
        "\n",
        "    if(k>=1):\n",
        "      back[first_m:m+first_m, first_n:n+first_n] = dft_shift\n",
        "    else:\n",
        "      back = dft_shift[first_m:new_m+first_m, first_n:new_n+first_n]\n",
        "\n",
        "    #print(\"dft_shift\",dft_shift)\n",
        "    #print(\"back\",back)\n",
        "    # shift origin from center to upper left corner\n",
        "    back_ishift = np.fft.ifftshift(back)\n",
        "\n",
        "    # do idft to get to the spatial domain from frequency domain\n",
        "    img_back = np.fft.ifft2(back_ishift)\n",
        "\n",
        "    # taking complex components of img_back\n",
        "    img_back = np.abs(img_back)\n",
        "\n",
        "    # re-normalize to 8-bits\n",
        "    min, max = np.amin(img_back, (0,1)), np.amax(img_back, (0,1))\n",
        "    out_img = cv2.normalize(img_back, None, alpha=0, beta=255, norm_type=cv2.NORM_MINMAX, dtype=cv2.CV_8U)\n",
        "    \n",
        "    #############################\n",
        "    # End your code here ########\n",
        "    #############################    \n",
        "    \n",
        "    return out_img"
      ],
      "execution_count": 17,
      "outputs": []
    },
    {
      "cell_type": "markdown",
      "metadata": {
        "id": "aahr7uN2JYrl"
      },
      "source": [
        "### Observations"
      ]
    },
    {
      "cell_type": "code",
      "metadata": {
        "id": "OzUKVPNaJYrm",
        "colab": {
          "base_uri": "https://localhost:8080/",
          "height": 1000
        },
        "outputId": "3e843fcc-b42a-4521-d09b-398176fa0b91"
      },
      "source": [
        "# Do not change codes inside this cell\n",
        "# Add your observations in next cell\n",
        "# Your observation should compare the output for different values of k\n",
        "\n",
        "data = cv2.imread(\"data/parallel_lines.jpg\", 0)\n",
        "\n",
        "print(\"Original\")\n",
        "cv2_imshow(data)\n",
        "\n",
        "for k in [0.49, 0.5, 0.51, 1.96, 2, 2.04]:\n",
        "    tmp = resize_ft(data, k=k)\n",
        "    print(\" k = \" + str(k))\n",
        "    cv2_imshow(tmp)"
      ],
      "execution_count": 18,
      "outputs": [
        {
          "output_type": "stream",
          "text": [
            "Original\n"
          ],
          "name": "stdout"
        },
        {
          "output_type": "display_data",
          "data": {
            "image/png": "[encoded data removed]",
            "text/plain": [
              "<PIL.Image.Image image mode=L size=512x512 at 0x7F4512A72518>"
            ]
          },
          "metadata": {
            "tags": []
          }
        },
        {
          "output_type": "stream",
          "text": [
            " k = 0.49\n"
          ],
          "name": "stdout"
        },
        {
          "output_type": "display_data",
          "data": {
            "image/png": "[encoded data removed]",
            "text/plain": [
              "<PIL.Image.Image image mode=L size=250x250 at 0x7F4512A725C0>"
            ]
          },
          "metadata": {
            "tags": []
          }
        },
        {
          "output_type": "stream",
          "text": [
            " k = 0.5\n"
          ],
          "name": "stdout"
        },
        {
          "output_type": "display_data",
          "data": {
            "image/png": "[encoded data removed]",
            "text/plain": [
              "<PIL.Image.Image image mode=L size=256x256 at 0x7F4512A72470>"
            ]
          },
          "metadata": {
            "tags": []
          }
        },
        {
          "output_type": "stream",
          "text": [
            " k = 0.51\n"
          ],
          "name": "stdout"
        },
        {
          "output_type": "display_data",
          "data": {
            "image/png": "[encoded data removed]",
            "text/plain": [
              "<PIL.Image.Image image mode=L size=261x261 at 0x7F4512A72550>"
            ]
          },
          "metadata": {
            "tags": []
          }
        },
        {
          "output_type": "stream",
          "text": [
            " k = 1.96\n"
          ],
          "name": "stdout"
        },
        {
          "output_type": "display_data",
          "data": {
            "image/png": "[encoded data removed]",
            "text/plain": [
              "<PIL.Image.Image image mode=L size=1003x1003 at 0x7F4512A72470>"
            ]
          },
          "metadata": {
            "tags": []
          }
        },
        {
          "output_type": "stream",
          "text": [
            " k = 2\n"
          ],
          "name": "stdout"
        },
        {
          "output_type": "display_data",
          "data": {
            "image/png": "[encoded data removed]",
            "text/plain": [
              "<PIL.Image.Image image mode=L size=1024x1024 at 0x7F4512A725C0>"
            ]
          },
          "metadata": {
            "tags": []
          }
        },
        {
          "output_type": "stream",
          "text": [
            " k = 2.04\n"
          ],
          "name": "stdout"
        },
        {
          "output_type": "display_data",
          "data": {
            "image/png": "[encoded data removed]",
            "text/plain": [
              "<PIL.Image.Image image mode=L size=1044x1044 at 0x7F4512A72470>"
            ]
          },
          "metadata": {
            "tags": []
          }
        }
      ]
    },
    {
      "cell_type": "code",
      "metadata": {
        "id": "MPtnPpSvJYrv",
        "colab": {
          "base_uri": "https://localhost:8080/"
        },
        "outputId": "13f5e2d1-8f78-410f-e9c3-fb9f6323148d"
      },
      "source": [
        "your_observation = \"\"\"\n",
        "The image we have been given(parallel lines) contains a lot of high frequency components, which gets eliminated when we crop our frequency domain array \n",
        "for k=0.49. Hence we get only black image as output. I tried my code for \"Lena Image\" for k=0.49, and it resized it perfectly. Hence, implying it's the given image's fault :) For k=0.51, even if we do \n",
        "resizing in spatial domain, we get the same answer(have done the same in PA1,Task-2). For k>1, it already works perfectly.\n",
        "\"\"\"\n",
        "\n",
        "print(your_observation)"
      ],
      "execution_count": 19,
      "outputs": [
        {
          "output_type": "stream",
          "text": [
            "\n",
            "The image we have been given(parallel lines) contains a lot of high frequency components, which gets eliminated when we crop our frequency domain array \n",
            "for k=0.49. Hence we get only black image as output. I tried my code for \"Lena Image\" for k=0.49, and it resized it perfectly. Hence, implying it's the given image's fault :) For k=0.51, even if we do \n",
            "resizing in spatial domain, we get the same answer(have done the same in PA1,Task-2). For k>1, it already works perfectly.\n",
            "\n"
          ],
          "name": "stdout"
        }
      ]
    },
    {
      "cell_type": "code",
      "metadata": {
        "id": "LSeONbztJYr-"
      },
      "source": [
        "# Submission >>>>>>>>>>>>>>>>>>>>>\n",
        "# Do not change codes inside this cell.\n",
        "\n",
        "gen_imgs = []\n",
        "data = cv2.imread(\"data/parallel_lines.jpg\", 0)\n",
        "\n",
        "for k in [0.49, 0.5, 0.51, 1.96, 2, 2.04]:\n",
        "    tmp = resize_ft(data, k=k)\n",
        "    gen_imgs.append(tmp)\n",
        "\n",
        "task1_submission = np.array(gen_imgs)"
      ],
      "execution_count": 21,
      "outputs": []
    },
    {
      "cell_type": "code",
      "metadata": {
        "id": "6I39Ra0_JYsG"
      },
      "source": [
        ""
      ],
      "execution_count": null,
      "outputs": []
    }
  ]
}