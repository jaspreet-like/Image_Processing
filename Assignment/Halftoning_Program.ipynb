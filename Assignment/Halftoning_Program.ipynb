{
  "nbformat": 4,
  "nbformat_minor": 0,
  "metadata": {
    "kernelspec": {
      "display_name": "Python 3",
      "language": "python",
      "name": "python3"
    },
    "language_info": {
      "codemirror_mode": {
        "name": "ipython",
        "version": 3
      },
      "file_extension": ".py",
      "mimetype": "text/x-python",
      "name": "python",
      "nbconvert_exporter": "python",
      "pygments_lexer": "ipython3",
      "version": "3.7.4"
    },
    "colab": {
      "name": "Jaspreet Task_1.ipynb",
      "provenance": [],
      "collapsed_sections": []
    }
  },
  "cells": [
    {
      "cell_type": "code",
      "metadata": {
        "id": "gPZwe1kbbJFs"
      },
      "source": [
        "# Copyright 2020 IITK EE604A Image Processing. All Rights Reserved.\n",
        "# \n",
        "# Licensed under the MIT License. Use and/or modification of this code outside of EE604 must reference:\n",
        "#\n",
        "# © IITK EE604A Image Processing \n",
        "# https://github.com/ee604/ee604_assignments\n",
        "#\n",
        "# Author: Shashi Kant Gupta, Chiranjeev Prachand and Prof K. S. Venkatesh, Department of Electrical Engineering, IIT Kanpur"
      ],
      "execution_count": 1,
      "outputs": []
    },
    {
      "cell_type": "markdown",
      "metadata": {
        "id": "HFNDmf7ybJFw"
      },
      "source": [
        "# Task 1: Basic Operation on Images - Number Display\n",
        "\n",
        "In this task, you have to write a simple [Halftoning Program](https://en.wikipedia.org/wiki/Halftone) to create a B&W number display. Aim for this assignment is to check your basic image manipulation skills.\n",
        "\n",
        "Our Number Display should contain **3 digits**. Each digit should be made using **5x3 dot patterns** (White dots should be drawn inside a black square of **60x60 pixels**. Consider index \\[29, 29\\] to be the center with radius **25 pixels**). A single digit should enclose within a rectangle of **300x180 pixels**. Your number display should enclose within a rectangle of **300x660 pixel** wide rectangle. There should be a space of **60 pixels** between two digits.\n",
        "\n",
        "**This is how your display should be if N = 123:**\n",
        "\n",
        "![](https://github.com/ee604/ee604_assignments/raw/master/assignment_1/imgs/t1_example.jpg)\n",
        "\n",
        "**Examples of single digits**\n",
        "\n",
        "![](https://github.com/ee604/ee604_assignments/raw/master/assignment_1/imgs/t1_digits.jpg)"
      ]
    },
    {
      "cell_type": "code",
      "metadata": {
        "id": "9TRMwUGKbJFx",
        "outputId": "62ecaa11-10a6-48f9-fb84-afc0ab5fcdb7",
        "colab": {
          "base_uri": "https://localhost:8080/",
          "height": 224
        }
      },
      "source": [
        "%%bash\n",
        "pip install git+https://github.com/ee604/ee604_plugins"
      ],
      "execution_count": 2,
      "outputs": [
        {
          "output_type": "stream",
          "text": [
            "Collecting git+https://github.com/ee604/ee604_plugins\n",
            "  Cloning https://github.com/ee604/ee604_plugins to /tmp/pip-req-build-v4gc9h_o\n",
            "Building wheels for collected packages: ee604-plugins\n",
            "  Building wheel for ee604-plugins (setup.py): started\n",
            "  Building wheel for ee604-plugins (setup.py): finished with status 'done'\n",
            "  Created wheel for ee604-plugins: filename=ee604_plugins-0.1.4-cp36-none-any.whl size=2305 sha256=6b81755cbf03ee1965f650c8d60f0a414405dcb3315c826c1013c6d7c3d00a2f\n",
            "  Stored in directory: /tmp/pip-ephem-wheel-cache-ct8thk7o/wheels/34/a8/1d/ae3b7d209ecde89b4800a47ec55a61e7503bb9548bbb975806\n",
            "Successfully built ee604-plugins\n",
            "Installing collected packages: ee604-plugins\n",
            "Successfully installed ee604-plugins-0.1.4\n"
          ],
          "name": "stdout"
        },
        {
          "output_type": "stream",
          "text": [
            "  Running command git clone -q https://github.com/ee604/ee604_plugins /tmp/pip-req-build-v4gc9h_o\n"
          ],
          "name": "stderr"
        }
      ]
    },
    {
      "cell_type": "code",
      "metadata": {
        "id": "BbW_gJyhbJF0"
      },
      "source": [
        "# Importing required libraries\n",
        "\n",
        "import cv2\n",
        "import numpy as np\n",
        "from ee604_plugins import cv2_imshow"
      ],
      "execution_count": 14,
      "outputs": []
    },
    {
      "cell_type": "code",
      "metadata": {
        "id": "ykmVwhK9bJF3"
      },
      "source": [
        "def generate_number_display(N=248):\n",
        "    '''\n",
        "    Write your program to generate 3 digit number display as described above. \n",
        "    Digits should be white and background black.\n",
        "    \n",
        "    Inputs:\n",
        "    + N - A '3' digit number to be printed.\n",
        "    \n",
        "    Ouputs:\n",
        "    + out_img - your 300x660 numpy array (of dtype np.uint8) as the display image.\n",
        "              - For white pixel use value = 255\n",
        "              - For black pixel use value = 0\n",
        "    \n",
        "    Allowed external package:\n",
        "    + You can use cv2.circle to draw dots. \n",
        "    + You are not allowed to use any other external package.\n",
        "    \n",
        "    Hint:\n",
        "    + Create a masking array to place white dots across a black 300x660 display image.\n",
        "    \n",
        "    '''\n",
        "    out_img = np.zeros((300, 660), dtype=np.uint8) # Intialise with blank display\n",
        "    \n",
        "    #############################\n",
        "    # Start your code from here #\n",
        "    #############################\n",
        "    \n",
        "    def digit1(place, imagePointer):\n",
        "      for i in range(5):\n",
        "        cv2.circle(imagePointer, ((place*240)+90, 30*(1+2*i)), 25, 255, -1)\n",
        "    \n",
        "    def digit2(place, imagePointer):\n",
        "      for i in range(0,5,2):\n",
        "        for j in range(3):\n",
        "          cv2.circle(imagePointer, ((place*240)+30*(2*j+1), 30*(2*i+1)), 25, 255, -1)\n",
        "      cv2.circle(imagePointer, ((place*240)+150,90), 25, 255, -1)\n",
        "      cv2.circle(imagePointer, ((place*240)+30,210), 25, 255, -1)\n",
        "\n",
        "    def digit3(place, imagePointer):\n",
        "      for i in range(5):\n",
        "        cv2.circle(imagePointer, ((place*240)+150, 30*(1+2*i)), 25, 255, -1)\n",
        "      for i in range(0,5,2):\n",
        "        for j in range(3):\n",
        "          cv2.circle(imagePointer, ((place*240)+30*(2*j+1), 30*(2*i+1)), 25, 255, -1)\n",
        "    \n",
        "    def digit4(place, imagePointer): \n",
        "      for i in range(5):\n",
        "        cv2.circle(imagePointer, ((place*240)+150, 30*(1+2*i)), 25, 255, -1)\n",
        "      for j in range(3):\n",
        "        cv2.circle(imagePointer, ((place*240)+30, 30*(1+2*j)), 25, 255, -1)\n",
        "      cv2.circle(imagePointer, ((place*240)+90,150), 25, 255, -1)\n",
        "\n",
        "    def digit5(place, imagePointer):\n",
        "      for i in range(0,5,2):\n",
        "        for j in range(3):\n",
        "          cv2.circle(imagePointer, ((place*240)+30*(2*j+1), 30*(2*i+1)), 25, 255, -1)\n",
        "      cv2.circle(imagePointer, ((place*240)+30,90), 25, 255, -1)\n",
        "      cv2.circle(imagePointer, ((place*240)+150,210), 25, 255, -1)\n",
        "\n",
        "    def digit6(place, imagePointer):\n",
        "      for i in range(0,5,2):\n",
        "        for j in range(3):\n",
        "          cv2.circle(imagePointer, ((place*240)+30*(2*j+1), 30*(2*i+1)), 25, 255, -1)\n",
        "      for i in range(5):\n",
        "        cv2.circle(imagePointer, ((place*240)+30, 30*(1+2*i)), 25, 255, -1)\n",
        "      cv2.circle(imagePointer, ((place*240)+150, 210), 25, 255, -1)\n",
        "\n",
        "    def digit7(place, imagePointer):\n",
        "      for i in range(5):\n",
        "        cv2.circle(imagePointer, ((place*240)+150, 30*(1+2*i)), 25, 255, -1)\n",
        "      for j in range(3):\n",
        "          cv2.circle(imagePointer, ((place*240)+30*(2*j+1), 30), 25, 255, -1)\n",
        "    \n",
        "    def digit8(place, imagePointer):\n",
        "      for i in range(0,5,2):\n",
        "        for j in range(3):\n",
        "          cv2.circle(imagePointer, ((place*240)+30*(2*j+1), 30*(2*i+1)), 25, 255, -1)\n",
        "      for i in range(5):\n",
        "        cv2.circle(imagePointer, ((place*240)+30, 30*(1+2*i)), 25, 255, -1)\n",
        "      for i in range(5):\n",
        "        cv2.circle(imagePointer, ((place*240)+150, 30*(1+2*i)), 25, 255, -1)\n",
        "\n",
        "    def digit9(place, imagePointer):\n",
        "      for i in range(0,5,2):\n",
        "        for j in range(3):\n",
        "          cv2.circle(imagePointer, ((place*240)+30*(2*j+1), 30*(2*i+1)), 25, 255, -1)\n",
        "      for i in range(5):\n",
        "        cv2.circle(imagePointer, ((place*240)+150, 30*(1+2*i)), 25, 255, -1)\n",
        "      cv2.circle(imagePointer, ((place*240)+30, 90), 25, 255, -1)\n",
        "    \n",
        "    def digit0(place, imagePointer):\n",
        "      for j in range(0,3,2):\n",
        "        for i in range(5):\n",
        "          cv2.circle(imagePointer, ((place*240)+30*(2*j+1), 30*(2*i+1)), 25, 255, -1)\n",
        "      cv2.circle(imagePointer, ((place*240)+90, 30), 25, 255, -1)\n",
        "      cv2.circle(imagePointer, ((place*240)+90, 270), 25, 255, -1)\n",
        "\n",
        "    c = N%10\n",
        "    b = int(((N%100)-c)/10)\n",
        "    a = int(N/100)\n",
        "\n",
        "    if a==0: digit0(0,out_img)\n",
        "    elif a==1: digit1(0,out_img)\n",
        "    elif a==2: digit2(0,out_img)\n",
        "    elif a==3: digit3(0,out_img)\n",
        "    elif a==4: digit4(0,out_img)\n",
        "    elif a==5: digit5(0,out_img)\n",
        "    elif a==6: digit6(0,out_img)\n",
        "    elif a==7: digit7(0,out_img)\n",
        "    elif a==8: digit8(0,out_img)\n",
        "    elif a==9: digit9(0,out_img)\n",
        "\n",
        "    if b==0: digit0(1,out_img)\n",
        "    elif b==1: digit1(1,out_img)\n",
        "    elif b==2: digit2(1,out_img)\n",
        "    elif b==3: digit3(1,out_img)\n",
        "    elif b==4: digit4(1,out_img)\n",
        "    elif b==5: digit5(1,out_img)\n",
        "    elif b==6: digit6(1,out_img)\n",
        "    elif b==7: digit7(1,out_img)\n",
        "    elif b==8: digit8(1,out_img)\n",
        "    elif b==9: digit9(1,out_img)\n",
        "\n",
        "    if c==0: digit0(2,out_img)\n",
        "    elif c==1: digit1(2,out_img)\n",
        "    elif c==2: digit2(2,out_img)\n",
        "    elif c==3: digit3(2,out_img)\n",
        "    elif c==4: digit4(2,out_img)\n",
        "    elif c==5: digit5(2,out_img)\n",
        "    elif c==6: digit6(2,out_img)\n",
        "    elif c==7: digit7(2,out_img)\n",
        "    elif c==8: digit8(2,out_img)\n",
        "    elif c==9: digit9(2,out_img)\n",
        "\n",
        "    #############################\n",
        "    # End your code here ########\n",
        "    #############################    \n",
        "    \n",
        "    return np.uint8(out_img)"
      ],
      "execution_count": 47,
      "outputs": []
    },
    {
      "cell_type": "code",
      "metadata": {
        "id": "ZkUECH-xbJF6",
        "outputId": "bbf1d95a-ac84-4c6f-e11b-4003c2814523",
        "colab": {
          "base_uri": "https://localhost:8080/",
          "height": 317
        }
      },
      "source": [
        "# Test Run\n",
        "img = generate_number_display()\n",
        "cv2_imshow(img)"
      ],
      "execution_count": 48,
      "outputs": [
        {
          "output_type": "display_data",
          "data": {
            "image/png": "[encoded data removed]",
            "text/plain": [
              "<PIL.Image.Image image mode=L size=660x300 at 0x7F861B1BCE10>"
            ]
          },
          "metadata": {
            "tags": []
          }
        }
      ]
    },
    {
      "cell_type": "code",
      "metadata": {
        "id": "r_-A2Q5bbJF8"
      },
      "source": [
        "# Submission >>>>>>>>>>>>>>>>>>>>>\n",
        "# Do not change codes inside this cell otherwise our autograder will fail.\n",
        "\n",
        "test_numbers = [604, 987, 645, 159, 963, 248]\n",
        "\n",
        "gen_imgs = []\n",
        "for N in test_numbers:\n",
        "    gen_imgs.append(generate_number_display(N=N))\n",
        "    \n",
        "task1_submission = np.array(gen_imgs)"
      ],
      "execution_count": null,
      "outputs": []
    }
  ]
}
